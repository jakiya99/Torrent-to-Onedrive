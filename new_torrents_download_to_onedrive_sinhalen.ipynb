{
  "nbformat": 4,
  "nbformat_minor": 0,
  "metadata": {
    "colab": {
      "name": "new torrents download to onedrive sinhalen.ipynb",
      "provenance": [],
      "collapsed_sections": [
        "bBgmZJTe4Xkj"
      ],
      "authorship_tag": "ABX9TyMt4fqpdNegFFiwFZkDMMmg",
      "include_colab_link": true
    },
    "kernelspec": {
      "name": "python3",
      "display_name": "Python 3"
    },
    "language_info": {
      "name": "python"
    }
  },
  "cells": [
    {
      "cell_type": "markdown",
      "metadata": {
        "id": "view-in-github",
        "colab_type": "text"
      },
      "source": [
        "<a href=\"https://colab.research.google.com/github/jakiya99/Torrent-to-Onedrive/blob/main/new_torrents_download_to_onedrive_sinhalen.ipynb\" target=\"_parent\"><img src=\"https://colab.research.google.com/assets/colab-badge.svg\" alt=\"Open In Colab\"/></a>"
      ]
    },
    {
      "cell_type": "markdown",
      "metadata": {
        "id": "cJzY3hfpLwPj"
      },
      "source": [
        "\n",
        "# ⎝乡<font color='greenr'> ටොරෙනට්  </font>  <font color='lightblue'>onedrive</font> එකට ඩවුන්ලෝඩ් කරමු <img src='https://www.gb-advisors.com/wp-content/uploads/2020/03/OneDrive-Logo.png' height=\"100\" />\n",
        "\n",
        "#BY'-  <font color='red'> #ツ  jคK¡ץA ツ ජෑකියා ⎝⎝乡 </font>\n",
        "\n",
        "\n",
        "\n"
      ]
    },
    {
      "cell_type": "markdown",
      "metadata": {
        "id": "3rEItGYsNqvm"
      },
      "source": [
        "\n",
        "\n",
        "\n",
        "<font color='pink'> Tools  </font> \n",
        "\n",
        "\n",
        "*   <font color='yellow'> Rclone </font> - ඔන්න ඔය ලින්ක් එකට ගිහිහ්  rclone එක ඩවුන්ලෝඩ් කරගනින් හුත්තෝ= https://rclone.org/downloads/\n",
        "*   <font color='yellow'> Onedrive Account  </font> \n",
        "\n",
        "HOW TO GET CODE? ඔන්න ඕකේ විදිහට කෝඩ් එක ගනින් හුප්තෝ link= https://github.com/jakiya99/Torrent-to-Onedrive/blob/main/rclone%20config/authenticate%20onedrive%20rclone.md\n",
        "\n",
        "#<font color='yellow'>Play බටන් එකක් වගේ තියන රවුම්  <img src='https://www.pngfind.com/pngs/b/20-200711_youtube-button-png.png' height=\"40\" /> ටික විතරක් ඔබපන් හුත්තෝ පිලිවට ඔබන් පලයන්\n",
        "\n",
        "#<font color='redye'>පලවෙනි පාරට කරවනනම් ඉස්සෙලා පෝඩි ටොරෙන්ට් එකක් දාලා බලපන් පස්සේ ඕන රෙද්දක් දාගනින්\n",
        "\n"
      ]
    },
    {
      "cell_type": "markdown",
      "metadata": {
        "id": "bBgmZJTe4Xkj"
      },
      "source": [
        "# 1.Install  <img src='https://biplobsd.github.io/RLabClone/img/title_rclonelab.svg' height=\"45\" alt=\"RcloneLab\"/> <img src='https://libtorrent.org/img/logo-color-text.png' height=\"45\" alt=\"RcloneLab\"/>\n",
        "\n",
        "මේ පම්කවල් 2 colab එකේ ඉන්ස්ටෝල් කරන්න රවුම වගේ එක ඔබපන් හුත්තෝ  <img src='https://www.pngfind.com/pngs/b/20-200711_youtube-button-png.png' height=\"40\" />\n",
        "\n"
      ]
    },
    {
      "cell_type": "code",
      "metadata": {
        "id": "967x0RwzyWCb",
        "colab": {
          "base_uri": "https://localhost:8080/"
        },
        "outputId": "dd8c1911-3fce-4b47-a7c8-062aaa4b9a43"
      },
      "source": [
        "!python -m pip install --upgrade pip setuptools wheel\n",
        "!python -m pip install lbry-libtorrent\n",
        "!wget https://downloads.rclone.org/v1.52.1/rclone-v1.52.1-linux-amd64.deb\n",
        "!apt install ./rclone-v1.52.1-linux-amd64.deb"
      ],
      "execution_count": null,
      "outputs": [
        {
          "output_type": "stream",
          "text": [
            "Collecting pip\n",
            "\u001b[?25l  Downloading https://files.pythonhosted.org/packages/fe/ef/60d7ba03b5c442309ef42e7d69959f73aacccd0d86008362a681c4698e83/pip-21.0.1-py3-none-any.whl (1.5MB)\n",
            "\u001b[K     |████████████████████████████████| 1.5MB 5.7MB/s \n",
            "\u001b[?25hRequirement already up-to-date: setuptools in /usr/local/lib/python3.7/dist-packages (54.2.0)\n",
            "Requirement already up-to-date: wheel in /usr/local/lib/python3.7/dist-packages (0.36.2)\n",
            "Installing collected packages: pip\n",
            "  Found existing installation: pip 19.3.1\n",
            "    Uninstalling pip-19.3.1:\n",
            "      Successfully uninstalled pip-19.3.1\n",
            "Successfully installed pip-21.0.1\n",
            "Collecting lbry-libtorrent\n",
            "  Downloading lbry_libtorrent-1.2.4-py3-none-any.whl (2.4 MB)\n",
            "\u001b[K     |████████████████████████████████| 2.4 MB 6.3 MB/s \n",
            "\u001b[?25hInstalling collected packages: lbry-libtorrent\n",
            "Successfully installed lbry-libtorrent-1.2.4\n",
            "--2021-04-01 10:22:24--  https://downloads.rclone.org/v1.52.1/rclone-v1.52.1-linux-amd64.deb\n",
            "Resolving downloads.rclone.org (downloads.rclone.org)... 5.153.250.7, 2a02:24e0:8:61f9::1\n",
            "Connecting to downloads.rclone.org (downloads.rclone.org)|5.153.250.7|:443... connected.\n",
            "HTTP request sent, awaiting response... 200 OK\n",
            "Length: 13904596 (13M) [application/x-debian-package]\n",
            "Saving to: ‘rclone-v1.52.1-linux-amd64.deb’\n",
            "\n",
            "rclone-v1.52.1-linu 100%[===================>]  13.26M  13.3MB/s    in 1.0s    \n",
            "\n",
            "2021-04-01 10:22:25 (13.3 MB/s) - ‘rclone-v1.52.1-linux-amd64.deb’ saved [13904596/13904596]\n",
            "\n",
            "Reading package lists... Done\n",
            "Building dependency tree       \n",
            "Reading state information... Done\n",
            "Note, selecting 'rclone' instead of './rclone-v1.52.1-linux-amd64.deb'\n",
            "The following NEW packages will be installed:\n",
            "  rclone\n",
            "0 upgraded, 1 newly installed, 0 to remove and 30 not upgraded.\n",
            "Need to get 0 B/13.9 MB of archives.\n",
            "After this operation, 43.0 MB of additional disk space will be used.\n",
            "Get:1 /content/rclone-v1.52.1-linux-amd64.deb rclone amd64 1.52.1 [13.9 MB]\n",
            "Selecting previously unselected package rclone.\n",
            "(Reading database ... 160980 files and directories currently installed.)\n",
            "Preparing to unpack .../rclone-v1.52.1-linux-amd64.deb ...\n",
            "Unpacking rclone (1.52.1) ...\n",
            "Setting up rclone (1.52.1) ...\n",
            "Processing triggers for man-db (2.8.3-2ubuntu0.1) ...\n"
          ],
          "name": "stdout"
        }
      ]
    },
    {
      "cell_type": "markdown",
      "metadata": {
        "id": "IMgeaazpytxI"
      },
      "source": [
        "# 2.<font color='orange'>Onedrive එකට ඇක්සස් ගැනීම</font> <img src='https://biplobsd.github.io/RLabClone/img/title_rclonelab.svg' height=\"45\" alt=\"RcloneLab\"/></font> \n",
        "\n",
        "රවුම වගේ එක ඔබපන් හුත්තෝ  <img src='https://www.pngfind.com/pngs/b/20-200711_youtube-button-png.png' height=\"40\" />"
      ]
    },
    {
      "cell_type": "code",
      "metadata": {
        "id": "FD9JXMdiyiFH"
      },
      "source": [
        "!rclone config      # පිලිවට  ටයිප් කරහන් හුප්තෝ"
      ],
      "execution_count": null,
      "outputs": []
    },
    {
      "cell_type": "markdown",
      "metadata": {
        "id": "CN6MG1yWPfar"
      },
      "source": [
        "\n",
        "<img src='https://i.kym-cdn.com/entries/icons/original/000/035/360/unga.jpg' height=\"150\" />\n",
        "\n",
        "<img src='https://cdn.vox-cdn.com/uploads/chorus_asset/file/12410821/Confused_Ice_Cube.0.gif' height=\"150\" />\n",
        "\n",
        "<img src='https://media2.giphy.com/media/l1J9EjwO20JcH9xdK/giphy.gif' height=\"150\" />\n",
        "\n",
        "\n",
        "\n",
        "\n",
        "#</font> <font color='red'> Confused උනාද  </font> \n",
        "  මේ පිලිවට  ටයිප් කරහන් හුප්තෝ\n",
        "\n",
        "1. </font> <font color='red'>\"n\"  </font>කියලා ටයිප් කරලා enter එක ඔබපන් හුත්තෝ       - new remote\n",
        "\n",
        "2.</font> <font color='red'> onedrive </font>කියලා ටයිප් කරලා enter එක ඔබපන් හුත්තෝ -name\n",
        "\n",
        "3. </font> <font color='red'>\"23\"  </font>කියලා ටයිප් කරලා enter එක ඔබපන් හුත්තෝ  -storage\n",
        "\n",
        "4.</font> <font color='red'> enter </font>  විතරක්ඔ ඔබපන් හුත්තෝ      -client id\n",
        "\n",
        "5. ආයේ පාරක්  </font> <font color='red'>enter </font>   ඔබහන්     -client secret\n",
        "\n",
        "6.</font> <font color='red'>\"n\"  </font> කියලා ටයිප් කරලා enter එක ඔබපන් හුත්තෝ   -edit advanced no     \n",
        "    \n",
        "7.</font> <font color='red'>\"n\"  </font>  කියලා ටයිප් කරලා enter එක ඔබපන් හුත්තෝ  -auto config no\n",
        "\n",
        "8.</font> <font color='gree'>ඔය ලින්ක් එකේ පියවරෙන් පියවරට දාලා තියනවා code එක ගනින් හුප් </font> </font> <font color='red'>HOW TO GET CODE? ඔන්න ඕකේ විදිහට කෝඩ් එක ගනින් හුප්තෝ </font> link= https://github.com/jakiya99/Torrent-to-Onedrive/blob/main/rclone%20config/authenticate%20onedrive%20rclone.md    \n",
        "\n",
        "Cmd එකෙන් කෝඩ් එක කොපි කරලා පේස්ට් කරපන් හුත්තෝ\n",
        "\n",
        "9.</font> <font color='red'>\"1\"  </font>'කියලා ටයිප් කරලා enter එක ඔබපන් හුත්තෝ\n",
        "\n",
        "10.</font> <font color='red'>\"0\"  </font>   කියලා ටයිප් කරලා enter එක ඔබපන් හුත්තෝ\n",
        "\n",
        "11.</font> <font color='red'>\"y\"  </font>කියලා ටයිප් කරලා enter එක ඔබපන් හුත්තෝ\n",
        "\n",
        "12.</font> <font color='red'>\"y\"  </font>කියලා ටයිප් කරලා enter එක ඔබපන් හුත්තෝ\n",
        "\n",
        "13. </font> <font color='red'>\"q\"  </font>  කියලා ටයිප් කරලා enter එක ඔබපන් හුත්තෝ\n",
        "                       \n",
        "\n",
        "\n",
        "\n"
      ]
    },
    {
      "cell_type": "markdown",
      "metadata": {
        "id": "eqVwKRRQycuK"
      },
      "source": [
        "# 3.<font color='yellow'>  Onedrive එක colab වලට සෙට් කිරීම<img src='https://www.gb-advisors.com/wp-content/uploads/2020/03/OneDrive-Logo.png' height=\"90\" />\n",
        "\n",
        "ඔය රවුම ඔබපන් හුප්තෝ බලන්න ඉන්නැතුව  <img src='https://www.pngfind.com/pngs/b/20-200711_youtube-button-png.png' height=\"40\" />\n",
        "\n"
      ]
    },
    {
      "cell_type": "code",
      "metadata": {
        "id": "UuAga4Edymzm"
      },
      "source": [
        "!mkdir onedrive\n",
        "!nohup rclone --vfs-cache-mode writes mount onedrive: ./onedrive &    "
      ],
      "execution_count": null,
      "outputs": []
    },
    {
      "cell_type": "markdown",
      "metadata": {
        "id": "H8-ox9i_oIAV"
      },
      "source": [
        "# වම් පැත්ත කෙලවරේ \"files' කියන එක ඔබහන් හුත්තෝ දැන් එකේ 'onedrive\" කියලා ෆෝල්ඩරයක් හැදිලා ඇති ඒක ක්ලික් කරද්දි උබේ onedrive එකේ folder files පෙන්නයි හරියට"
      ]
    },
    {
      "cell_type": "markdown",
      "metadata": {
        "id": "RRnxqKfoD1bO"
      },
      "source": [
        "හරියට mount උනාද කියලා බලන්න   <img src='https://www.pngfind.com/pngs/b/20-200711_youtube-button-png.png' height=\"40\" />"
      ]
    },
    {
      "cell_type": "code",
      "metadata": {
        "id": "Fil_bHuAD8S3"
      },
      "source": [
        "!ls ./onedrive   "
      ],
      "execution_count": null,
      "outputs": []
    },
    {
      "cell_type": "markdown",
      "metadata": {
        "id": "Jg7doiVcme9q"
      },
      "source": [
        "Onedrive එක හරියට සෙට් වුනානම් උබේ onedrive එකේ ෆයිල් ෆෝල්ඩර් නම් වැටෙයි\n",
        "\n",
        "එහම එකක් නැත්තන් ඔයා මේ පම්කක් ඔබලා 😂😂  එහමනම් ආයේ 2.ට ගිහින්  rclone config එක හරියට කරහන් දාලා තියන පිලිවලට ටයිප් කරහන්"
      ]
    },
    {
      "cell_type": "markdown",
      "metadata": {
        "id": "kDDLXWX5xNce"
      },
      "source": [
        "# 4.දැන් ඉතිං<font color='orange'> ටොරෙනාට් එක ඩවුන්ලෝඩ් කරහන් හුත්තෝ  <img src='https://libtorrent.org/img/logo-color-text.png' height=\"45\" alt=\"RcloneLab\"/>\n"
      ]
    },
    {
      "cell_type": "code",
      "metadata": {
        "id": "I7-OMxPiw8ms"
      },
      "source": [
        "!mkdir downloads\n",
        "link = input (\"ටොරෙනාට්ලි ලින්ක් දියන් හුත්තෝ\") \n",
        "\n",
        "import libtorrent as lt\n",
        "import time\n",
        "import datetime\n",
        "\n",
        "ses = lt.session()\n",
        "ses.listen_on(6881, 6891)\n",
        "params = {\n",
        "    'save_path': './onedrive/My Drive/Torrent/', #if you want change directory\n",
        "    'storage_mode': lt.storage_mode_t(2)}\n",
        "\n",
        "print(link)\n",
        "\n",
        "handle = lt.add_magnet_uri(ses, link, params)\n",
        "ses.start_dht()\n",
        "\n",
        "begin = time.time()\n",
        "print(datetime.datetime.now())\n",
        "\n",
        "print ('Downloading Metadata...')\n",
        "while (not handle.has_metadata()):\n",
        "    time.sleep(1)\n",
        "print ('Got Metadata, Starting Torrent Download...')\n",
        "\n",
        "print(\"Starting\", handle.name())\n",
        "\n",
        "while (handle.status().state != lt.torrent_status.seeding):\n",
        "    s = handle.status()\n",
        "    state_str = ['queued', 'checking', 'downloading metadata', \\\n",
        "            'downloading', 'finished', 'seeding', 'allocating']\n",
        "    print ('%.2f%% complete (down: %.1f kb/s up: %.1f kB/s peers: %d) %s ' % \\\n",
        "            (s.progress * 100, s.download_rate / 1000, s.upload_rate / 1000, \\\n",
        "            s.num_peers, state_str[s.state]))\n",
        "    time.sleep(5)\n",
        "\n",
        "end = time.time()\n",
        "print(handle.name(), \"දැන් හරි හුත්තෝ ඩවුන්ලෝඩ් වුනා\")\n",
        "\n",
        "print(\"Elapsed Time: \",int((end-begin)//60),\"min :\", int((end-begin)%60), \"sec\")\n",
        "\n",
        "print(datetime.datetime.now())"
      ],
      "execution_count": null,
      "outputs": []
    },
    {
      "cell_type": "markdown",
      "metadata": {
        "id": "VhognXTLjXk7"
      },
      "source": [
        "<img src='https://cdn.dribbble.com/users/2760451/screenshots/5667639/file-transfer.gif' height=\"200\" />"
      ]
    }
  ]
}